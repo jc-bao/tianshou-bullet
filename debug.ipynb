{
 "cells": [
  {
   "cell_type": "code",
   "execution_count": 5,
   "metadata": {},
   "outputs": [],
   "source": [
    "from tianshou.data import Batch, ReplayBuffer\n",
    "import numpy as np\n",
    "\n",
    "buffer = ReplayBuffer(size=5)\n",
    "\n",
    "for i in range(5):\n",
    "    buffer.add(Batch(obs=[-i,i,i+20], act=i, rew=i, done=(i==4), obs_next=[-(i+1), i+1, i+21], info={'future_length':(4-i)}))\n",
    "\n",
    "achieved_goal_index = 1\n",
    "desired_goal_index = 2\n",
    "batch_size = 4\n",
    "future_p = 0.8\n",
    "transitions, indices = buffer.sample(batch_size)\n",
    "# index of transitions to be replaced\n",
    "replace_idx = np.random.choice(batch_size, int(batch_size*future_p), replace = False)\n",
    "replace_indices = indices[replace_idx]\n",
    "# get future goal\n",
    "future_length = transitions[replace_idx].info.future_length\n",
    "future_goal_indices = np.random.randint(low = replace_indices, high = replace_indices + future_length + 1)"
   ]
  },
  {
   "cell_type": "code",
   "execution_count": 6,
   "metadata": {},
   "outputs": [
    {
     "name": "stdout",
     "output_type": "stream",
     "text": [
      "Batch(\n",
      "    obs: array([[-4,  4, 24],\n",
      "                [ 0,  0, 20],\n",
      "                [-2,  2, 22],\n",
      "                [-3,  3, 23]]),\n",
      "    act: array([4, 0, 2, 3]),\n",
      "    rew: array([4., 0., 2., 3.]),\n",
      "    done: array([ True, False, False, False]),\n",
      "    obs_next: array([[-5,  5, 25],\n",
      "                     [-1,  1, 21],\n",
      "                     [-3,  3, 23],\n",
      "                     [-4,  4, 24]]),\n",
      "    info: Batch(\n",
      "              future_length: array([0, 4, 2, 1]),\n",
      "          ),\n",
      "    policy: Batch(),\n",
      ")\n",
      "Batch(\n",
      "    obs: array([[-4,  4,  4],\n",
      "                [ 0,  0,  1],\n",
      "                [-2,  2, 22],\n",
      "                [-3,  3,  3]]),\n",
      "    act: array([4, 0, 2, 3]),\n",
      "    rew: array([108., 101.,   2., 106.]),\n",
      "    done: array([ True, False, False, False]),\n",
      "    obs_next: array([[-5,  5, 25],\n",
      "                     [-1,  1, 21],\n",
      "                     [-3,  3, 23],\n",
      "                     [-4,  4, 24]]),\n",
      "    info: Batch(\n",
      "              future_length: array([0, 4, 2, 1]),\n",
      "          ),\n",
      "    policy: Batch(),\n",
      ")\n"
     ]
    }
   ],
   "source": [
    "# replace goal and reward\n",
    "print(transitions)\n",
    "obs_future = buffer.obs[future_goal_indices]\n",
    "obs_old = transitions.obs[replace_idx]\n",
    "obs_new = np.concatenate((obs_old[:, :desired_goal_index], obs_future[:, achieved_goal_index:desired_goal_index]), axis = 1)\n",
    "transitions.obs[replace_idx] = obs_new\n",
    "obs_new = transitions.obs[replace_idx]\n",
    "for i, idx in enumerate(replace_idx):\n",
    "    transitions.rew[idx] = (obs_new[i, achieved_goal_index:desired_goal_index] + obs_new[i, desired_goal_index:] + 100)\n",
    "print(transitions)"
   ]
  },
  {
   "cell_type": "code",
   "execution_count": 4,
   "metadata": {},
   "outputs": [
    {
     "name": "stdout",
     "output_type": "stream",
     "text": [
      "[1 3]\n"
     ]
    }
   ],
   "source": [
    "import numpy as np\n",
    "a = np.array([[-3 , 3],\n",
    " [-1  ,1],\n",
    " [-1 , 1]])\n",
    "b = np.array([[3],\n",
    " [2],\n",
    " [3]])\n",
    "np.concatenate((a,b),axis=1)\n",
    "print(np.random.randint([1,2], [2,6]))"
   ]
  }
 ],
 "metadata": {
  "interpreter": {
   "hash": "e5eb6902d1900d2decb3bdf7ac16a0c61011659b39aa72c90b1b2afe1472d5be"
  },
  "kernelspec": {
   "display_name": "Python 3.9.6 64-bit ('rl': conda)",
   "language": "python",
   "name": "python3"
  },
  "language_info": {
   "codemirror_mode": {
    "name": "ipython",
    "version": 3
   },
   "file_extension": ".py",
   "mimetype": "text/x-python",
   "name": "python",
   "nbconvert_exporter": "python",
   "pygments_lexer": "ipython3",
   "version": "3.9.6"
  },
  "orig_nbformat": 4
 },
 "nbformat": 4,
 "nbformat_minor": 2
}
