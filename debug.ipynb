{
 "cells": [
  {
   "cell_type": "code",
   "execution_count": 82,
   "metadata": {},
   "outputs": [],
   "source": [
    "from tianshou.data import Batch, ReplayBuffer\n",
    "import numpy as np\n",
    "\n",
    "buffer = ReplayBuffer(size=5)\n",
    "\n",
    "for i in range(5):\n",
    "    buffer.add(Batch(obs=[-i,i,i+20], act=i, rew=i, done=(i==4), obs_next=[-(i+1), i+1, i+21], info={'future_length':(4-i)}))\n",
    "\n",
    "achieved_goal_index = 1\n",
    "desired_goal_index = 2\n",
    "batch_size = 4\n",
    "future_p = 0.8\n",
    "transitions, indices = buffer.sample(batch_size)\n",
    "# index of transitions to be replaced\n",
    "replace_idx = np.random.choice(batch_size, int(batch_size*future_p))\n",
    "replace_indices = indices[replace_idx]\n",
    "# get future goal\n",
    "future_goal_indices = replace_indices + (np.random.uniform(size=len(replace_idx)) * transitions[replace_idx].info.future_length).astype(int) "
   ]
  },
  {
   "cell_type": "code",
   "execution_count": 46,
   "metadata": {},
   "outputs": [
    {
     "name": "stdout",
     "output_type": "stream",
     "text": [
      "[[ 1 21]\n",
      " [ 0 20]\n",
      " [ 4 24]\n",
      " [ 4 24]] [[ 1 21]\n",
      " [ 0 20]\n",
      " [ 4 24]\n",
      " [ 4 24]]\n"
     ]
    }
   ],
   "source": [
    "obs = transitions.obs[replace_idx]\n",
    "obs_future = buffer.obs[future_goal_indices]\n",
    "transitions.obs[replace_idx] = obs_future\n",
    "print(obs_future, transitions.obs[replace_idx])"
   ]
  },
  {
   "cell_type": "code",
   "execution_count": 83,
   "metadata": {},
   "outputs": [
    {
     "name": "stdout",
     "output_type": "stream",
     "text": [
      "[[-3  3 23]\n",
      " [-2  2 22]\n",
      " [-3  3 23]] [1 1 2]\n",
      "Batch(\n",
      "    obs: array([[ 0,  0, 20],\n",
      "                [-2,  2, 22],\n",
      "                [-2,  2, 22],\n",
      "                [-2,  2, 22]]),\n",
      "    act: array([0, 2, 2, 2]),\n",
      "    rew: array([0., 2., 2., 2.]),\n",
      "    done: array([False, False, False, False]),\n",
      "    obs_next: array([[-1,  1, 21],\n",
      "                     [-3,  3, 23],\n",
      "                     [-3,  3, 23],\n",
      "                     [-3,  3, 23]]),\n",
      "    info: Batch(\n",
      "              future_length: array([4, 2, 2, 2]),\n",
      "          ),\n",
      "    policy: Batch(),\n",
      ")\n",
      "Batch(\n",
      "    obs: array([[ 0,  0, 20],\n",
      "                [-2,  2,  2],\n",
      "                [-2,  2,  3],\n",
      "                [-2,  2, 22]]),\n",
      "    act: array([0, 2, 2, 2]),\n",
      "    rew: array([0., 2., 2., 2.]),\n",
      "    done: array([False, False, False, False]),\n",
      "    obs_next: array([[-1,  1, 21],\n",
      "                     [-3,  3, 23],\n",
      "                     [-3,  3, 23],\n",
      "                     [-3,  3, 23]]),\n",
      "    info: Batch(\n",
      "              future_length: array([4, 2, 2, 2]),\n",
      "          ),\n",
      "    policy: Batch(),\n",
      ")\n",
      "Batch(\n",
      "    obs: array([[ 0,  0, 20],\n",
      "                [-2,  2,  2],\n",
      "                [-2,  2,  3],\n",
      "                [-2,  2, 22]]),\n",
      "    act: array([0, 2, 2, 2]),\n",
      "    rew: array([  0., 104., 105.,   2.]),\n",
      "    done: array([False, False, False, False]),\n",
      "    obs_next: array([[-1,  1, 21],\n",
      "                     [-3,  3, 23],\n",
      "                     [-3,  3, 23],\n",
      "                     [-3,  3, 23]]),\n",
      "    info: Batch(\n",
      "              future_length: array([4, 2, 2, 2]),\n",
      "          ),\n",
      "    policy: Batch(),\n",
      ")\n"
     ]
    }
   ],
   "source": [
    "# replace goal and reward\n",
    "obs_future = buffer.obs[future_goal_indices]\n",
    "obs_old = transitions.obs[replace_idx]\n",
    "obs_new = np.concatenate((obs_old[:, :desired_goal_index], obs_future[:, achieved_goal_index:desired_goal_index]), axis = 1)\n",
    "print(obs_future, replace_idx)\n",
    "transitions.obs[replace_idx] = obs_new\n",
    "obs_new = transitions.obs[replace_idx]\n",
    "for i, idx in enumerate(replace_idx):\n",
    "    transitions.rew[idx] = (obs_new[i, achieved_goal_index:desired_goal_index] + obs_new[i, desired_goal_index:] + 100)"
   ]
  },
  {
   "cell_type": "code",
   "execution_count": 78,
   "metadata": {},
   "outputs": [
    {
     "data": {
      "text/plain": [
       "array([[-3,  3,  3],\n",
       "       [-1,  1,  2],\n",
       "       [-1,  1,  3]])"
      ]
     },
     "execution_count": 78,
     "metadata": {},
     "output_type": "execute_result"
    }
   ],
   "source": [
    "a = np.array([[-3 , 3],\n",
    " [-1  ,1],\n",
    " [-1 , 1]])\n",
    "b = np.array([[3],\n",
    " [2],\n",
    " [3]])\n",
    "np.concatenate((a,b),axis=1)"
   ]
  }
 ],
 "metadata": {
  "interpreter": {
   "hash": "e5eb6902d1900d2decb3bdf7ac16a0c61011659b39aa72c90b1b2afe1472d5be"
  },
  "kernelspec": {
   "display_name": "Python 3.9.6 64-bit ('rl': conda)",
   "language": "python",
   "name": "python3"
  },
  "language_info": {
   "codemirror_mode": {
    "name": "ipython",
    "version": 3
   },
   "file_extension": ".py",
   "mimetype": "text/x-python",
   "name": "python",
   "nbconvert_exporter": "python",
   "pygments_lexer": "ipython3",
   "version": "3.9.6"
  },
  "orig_nbformat": 4
 },
 "nbformat": 4,
 "nbformat_minor": 2
}
